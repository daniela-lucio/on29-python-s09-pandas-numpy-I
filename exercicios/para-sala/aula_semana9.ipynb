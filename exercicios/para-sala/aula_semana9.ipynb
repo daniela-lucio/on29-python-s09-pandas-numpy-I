{
  "nbformat": 4,
  "nbformat_minor": 0,
  "metadata": {
    "colab": {
      "provenance": [],
      "authorship_tag": "ABX9TyPS3G1R6g1p5/0vIUXxqw6n",
      "include_colab_link": true
    },
    "kernelspec": {
      "name": "python3",
      "display_name": "Python 3"
    },
    "language_info": {
      "name": "python"
    }
  },
  "cells": [
    {
      "cell_type": "markdown",
      "metadata": {
        "id": "view-in-github",
        "colab_type": "text"
      },
      "source": [
        "<a href=\"https://colab.research.google.com/github/daniela-lucio/on29-python-s09-pandas-numpy-I/blob/main/exercicios/para-sala/aula_semana9.ipynb\" target=\"_parent\"><img src=\"https://colab.research.google.com/assets/colab-badge.svg\" alt=\"Open In Colab\"/></a>"
      ]
    },
    {
      "cell_type": "code",
      "source": [
        "import pandas"
      ],
      "metadata": {
        "id": "7W8HTHFPP-Ug"
      },
      "execution_count": 5,
      "outputs": []
    }
  ]
}